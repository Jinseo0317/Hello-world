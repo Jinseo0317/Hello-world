{
 "cells": [
  {
   "cell_type": "code",
   "execution_count": 10,
   "id": "9b7a8f99",
   "metadata": {},
   "outputs": [
    {
     "name": "stdout",
     "output_type": "stream",
     "text": [
      "동해물과 백두산이\n",
      "\n",
      "마르고 닳도록\n",
      "\n",
      "하느님이 보우하사 우리나라 만세\n",
      "\n",
      "무궁화 삼천리 화려강산\n",
      "\n",
      "대한사람 대한으로 길이 보전하세.\n"
     ]
    }
   ],
   "source": [
    "fpoint = open('demo.txt','r',encoding=\"utf-8\")\n",
    "list_ = fpoint.readlines()\n",
    "for line in list_:\n",
    "    print(line)\n",
    "fpoint.close()"
   ]
  },
  {
   "cell_type": "code",
   "execution_count": null,
   "id": "67888232",
   "metadata": {},
   "outputs": [],
   "source": [
    "fpoint = open('demo.txt','r',encoding=\"utf-8\")\n",
    "while True:\n",
    "    line = fpoint.readline()\n",
    "    if not line:\n",
    "        break\n",
    "    print(line, end=\" \")\n",
    "fpoint.close()"
   ]
  },
  {
   "cell_type": "code",
   "execution_count": null,
   "id": "2d36c6c2",
   "metadata": {},
   "outputs": [],
   "source": []
  }
 ],
 "metadata": {
  "kernelspec": {
   "display_name": "Python 3 (ipykernel)",
   "language": "python",
   "name": "python3"
  },
  "language_info": {
   "codemirror_mode": {
    "name": "ipython",
    "version": 3
   },
   "file_extension": ".py",
   "mimetype": "text/x-python",
   "name": "python",
   "nbconvert_exporter": "python",
   "pygments_lexer": "ipython3",
   "version": "3.11.4"
  }
 },
 "nbformat": 4,
 "nbformat_minor": 5
}
