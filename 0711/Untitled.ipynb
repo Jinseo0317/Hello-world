{
 "cells": [
  {
   "cell_type": "code",
   "execution_count": null,
   "id": "7388da94",
   "metadata": {},
   "outputs": [],
   "source": []
  },
  {
   "cell_type": "code",
   "execution_count": 1,
   "id": "bfd43911",
   "metadata": {},
   "outputs": [
    {
     "name": "stdout",
     "output_type": "stream",
     "text": [
      "name = 한지민, irum = 한지민\n"
     ]
    }
   ],
   "source": [
    "name = '한지민'\n",
    "irum = name\n",
    "print(f'name = {name}, irum = {irum}')"
   ]
  },
  {
   "cell_type": "markdown",
   "id": "6ebf0085",
   "metadata": {},
   "source": [
    "## Mutable Data Type"
   ]
  },
  {
   "cell_type": "code",
   "execution_count": 2,
   "id": "41bdf442",
   "metadata": {},
   "outputs": [],
   "source": [
    "list_ = ['Apple', \"Mango\", \"Melon\", \"Berry\"]\n",
    "list_copy = list_"
   ]
  },
  {
   "cell_type": "code",
   "execution_count": 4,
   "id": "5f50c989",
   "metadata": {},
   "outputs": [
    {
     "name": "stdout",
     "output_type": "stream",
     "text": [
      "list_ = ['Apple', 'Mango', 'Melon', 'Berry'], list_copy = ['Apple', 'Mango', 'Melon', 'Berry']\n"
     ]
    }
   ],
   "source": [
    "print(f\"list_ = {list_}, list_copy = {list_copy}\")"
   ]
  },
  {
   "cell_type": "code",
   "execution_count": 5,
   "id": "24534ff3",
   "metadata": {},
   "outputs": [],
   "source": [
    "list_copy[0] = \"Grape\""
   ]
  },
  {
   "cell_type": "code",
   "execution_count": 6,
   "id": "39af4e36",
   "metadata": {},
   "outputs": [
    {
     "name": "stdout",
     "output_type": "stream",
     "text": [
      "['Grape', 'Mango', 'Melon', 'Berry'] ['Grape', 'Mango', 'Melon', 'Berry']\n"
     ]
    }
   ],
   "source": [
    "print(list_,list_copy)"
   ]
  },
  {
   "cell_type": "code",
   "execution_count": 10,
   "id": "229455aa",
   "metadata": {},
   "outputs": [],
   "source": [
    "list_=[['apple','Grape'],'mango','melon','berry']"
   ]
  },
  {
   "cell_type": "code",
   "execution_count": 11,
   "id": "ffc32011",
   "metadata": {},
   "outputs": [
    {
     "name": "stdout",
     "output_type": "stream",
     "text": [
      "[['apple', 'Grape'], 'mango', 'melon', 'berry']\n"
     ]
    }
   ],
   "source": [
    "print(list_)"
   ]
  },
  {
   "cell_type": "code",
   "execution_count": 12,
   "id": "fa8a5218",
   "metadata": {},
   "outputs": [],
   "source": [
    "list_copy = list_"
   ]
  },
  {
   "cell_type": "code",
   "execution_count": 13,
   "id": "9f85a611",
   "metadata": {},
   "outputs": [
    {
     "name": "stdout",
     "output_type": "stream",
     "text": [
      "[['apple', 'Grape'], 'mango', 'melon', 'berry']\n"
     ]
    }
   ],
   "source": [
    "print(list_copy)"
   ]
  },
  {
   "cell_type": "code",
   "execution_count": null,
   "id": "5f2a86d5",
   "metadata": {},
   "outputs": [],
   "source": [
    "season = input(\"좋아하시는 계절은?(spring/summer/fall/winter)\")\n",
    "season = season.lower()\n",
    "if season == 'spring':\n",
    "    print(\"봄에 피는 꽃\")\n",
    "elif season == 'summer':\n",
    "    print(\"여름에 피는 꽃\")\n",
    "elif season == 'fall':\n",
    "    print(\"가을에 피는 꽃\")\n",
    "else:\n",
    "    print(\"겨울에 피는 꽃\")"
   ]
  },
  {
   "cell_type": "code",
   "execution_count": null,
   "id": "18695189",
   "metadata": {},
   "outputs": [],
   "source": [
    "for i in range(1,101):\n",
    "    if i % 6 == 0:\n",
    "        print(i)"
   ]
  },
  {
   "cell_type": "code",
   "execution_count": null,
   "id": "5f035c2b",
   "metadata": {},
   "outputs": [],
   "source": []
  }
 ],
 "metadata": {
  "kernelspec": {
   "display_name": "Python 3 (ipykernel)",
   "language": "python",
   "name": "python3"
  },
  "language_info": {
   "codemirror_mode": {
    "name": "ipython",
    "version": 3
   },
   "file_extension": ".py",
   "mimetype": "text/x-python",
   "name": "python",
   "nbconvert_exporter": "python",
   "pygments_lexer": "ipython3",
   "version": "3.11.4"
  }
 },
 "nbformat": 4,
 "nbformat_minor": 5
}
